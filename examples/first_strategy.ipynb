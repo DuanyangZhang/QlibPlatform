{
 "cells": [
  {
   "cell_type": "code",
   "execution_count": 1,
   "id": "6fb546f3",
   "metadata": {
    "scrolled": false
   },
   "outputs": [
    {
     "name": "stderr",
     "output_type": "stream",
     "text": [
      "[16756:MainThread](2022-08-20 19:25:06,201) INFO - qlib.Initialization - [config.py:413] - default_conf: client.\n",
      "[16756:MainThread](2022-08-20 19:25:06,916) INFO - qlib.Initialization - [__init__.py:74] - qlib successfully initialized based on client settings.\n",
      "[16756:MainThread](2022-08-20 19:25:06,917) INFO - qlib.Initialization - [__init__.py:76] - data_path={'__DEFAULT_FREQ': WindowsPath('D:/PycharmProjects/QlibPlatform/data/qlib_data/cn_data_ak')}\n"
     ]
    }
   ],
   "source": [
    "import qlib\n",
    "from qlib.constant import REG_CN\n",
    "provider_uri = \"../data/qlib_data/cn_data_ak\"  # target_dir\n",
    "qlib.init(provider_uri=provider_uri, region=REG_CN)"
   ]
  },
  {
   "cell_type": "code",
   "execution_count": null,
   "id": "47111963",
   "metadata": {},
   "outputs": [],
   "source": [
    "# 导入QlibDataLoader\n",
    "from qlib.data.dataset.loader import QlibDataLoader"
   ]
  },
  {
   "cell_type": "code",
   "execution_count": 4,
   "id": "a570c73d",
   "metadata": {},
   "outputs": [],
   "source": [
    "# 加载原始特征，比如收盘价、最高价\n",
    "qdl = QlibDataLoader(config=(['$close', '$high', '$factor'],['close', 'high', 'factor'])) \n",
    "df = qdl.load(instruments=['idx399006'], start_time='20190101', end_time='20221231')"
   ]
  },
  {
   "cell_type": "code",
   "execution_count": 21,
   "id": "aed476b4",
   "metadata": {},
   "outputs": [],
   "source": [
    "# 这次我们加载沪深300成分股的10日和30日收盘价指数加权均价\n",
    "market = 'csi300' # 沪深300股票池代码，在instruments文件夹下有对应的sh000300.txt\n",
    "close_ma = ['EMA($close, 10)', 'EMA($close, 30)'] # EMA($close, 10)表示计算close的10日指数加权均线\n",
    "ma_names = ['EMA10', 'EMA30']\n",
    "qdl_ma = QlibDataLoader(config=(close_ma, ma_names)) \n",
    "df = qdl_ma.load(instruments=market, start_time='20210101', end_time='20210110')"
   ]
  },
  {
   "cell_type": "code",
   "execution_count": 10,
   "id": "f9247209",
   "metadata": {},
   "outputs": [
    {
     "data": {
      "text/html": [
       "<div>\n",
       "<style scoped>\n",
       "    .dataframe tbody tr th:only-of-type {\n",
       "        vertical-align: middle;\n",
       "    }\n",
       "\n",
       "    .dataframe tbody tr th {\n",
       "        vertical-align: top;\n",
       "    }\n",
       "\n",
       "    .dataframe thead tr th {\n",
       "        text-align: left;\n",
       "    }\n",
       "\n",
       "    .dataframe thead tr:last-of-type th {\n",
       "        text-align: right;\n",
       "    }\n",
       "</style>\n",
       "<table border=\"1\" class=\"dataframe\">\n",
       "  <thead>\n",
       "    <tr>\n",
       "      <th></th>\n",
       "      <th></th>\n",
       "      <th colspan=\"2\" halign=\"left\">feature</th>\n",
       "      <th>label</th>\n",
       "    </tr>\n",
       "    <tr>\n",
       "      <th></th>\n",
       "      <th></th>\n",
       "      <th>EMA10</th>\n",
       "      <th>EMA30</th>\n",
       "      <th>next_ret</th>\n",
       "    </tr>\n",
       "    <tr>\n",
       "      <th>datetime</th>\n",
       "      <th>instrument</th>\n",
       "      <th></th>\n",
       "      <th></th>\n",
       "      <th></th>\n",
       "    </tr>\n",
       "  </thead>\n",
       "  <tbody>\n",
       "    <tr>\n",
       "      <th rowspan=\"5\" valign=\"top\">2021-01-04</th>\n",
       "      <th>SH600000</th>\n",
       "      <td>87.085709</td>\n",
       "      <td>87.898911</td>\n",
       "      <td>-0.000799</td>\n",
       "    </tr>\n",
       "    <tr>\n",
       "      <th>SH600004</th>\n",
       "      <td>28.742598</td>\n",
       "      <td>29.356647</td>\n",
       "      <td>-0.013638</td>\n",
       "    </tr>\n",
       "    <tr>\n",
       "      <th>SH600009</th>\n",
       "      <td>185.496445</td>\n",
       "      <td>188.231216</td>\n",
       "      <td>-0.002277</td>\n",
       "    </tr>\n",
       "    <tr>\n",
       "      <th>SH600010</th>\n",
       "      <td>9.318274</td>\n",
       "      <td>9.363085</td>\n",
       "      <td>-0.007463</td>\n",
       "    </tr>\n",
       "    <tr>\n",
       "      <th>SH600011</th>\n",
       "      <td>17.678295</td>\n",
       "      <td>17.891283</td>\n",
       "      <td>-0.011396</td>\n",
       "    </tr>\n",
       "    <tr>\n",
       "      <th>...</th>\n",
       "      <th>...</th>\n",
       "      <td>...</td>\n",
       "      <td>...</td>\n",
       "      <td>...</td>\n",
       "    </tr>\n",
       "    <tr>\n",
       "      <th rowspan=\"5\" valign=\"top\">2021-01-08</th>\n",
       "      <th>SZ300498</th>\n",
       "      <td>38.887028</td>\n",
       "      <td>38.799690</td>\n",
       "      <td>-0.033316</td>\n",
       "    </tr>\n",
       "    <tr>\n",
       "      <th>SZ300529</th>\n",
       "      <td>143.827393</td>\n",
       "      <td>138.928024</td>\n",
       "      <td>-0.046978</td>\n",
       "    </tr>\n",
       "    <tr>\n",
       "      <th>SZ300601</th>\n",
       "      <td>250.708481</td>\n",
       "      <td>245.788208</td>\n",
       "      <td>-0.062018</td>\n",
       "    </tr>\n",
       "    <tr>\n",
       "      <th>SZ300628</th>\n",
       "      <td>889.865051</td>\n",
       "      <td>876.632812</td>\n",
       "      <td>-0.008940</td>\n",
       "    </tr>\n",
       "    <tr>\n",
       "      <th>SZ300676</th>\n",
       "      <td>133.755264</td>\n",
       "      <td>132.078094</td>\n",
       "      <td>0.053054</td>\n",
       "    </tr>\n",
       "  </tbody>\n",
       "</table>\n",
       "<p>1495 rows × 3 columns</p>\n",
       "</div>"
      ],
      "text/plain": [
       "                          feature                 label\n",
       "                            EMA10       EMA30  next_ret\n",
       "datetime   instrument                                  \n",
       "2021-01-04 SH600000     87.085709   87.898911 -0.000799\n",
       "           SH600004     28.742598   29.356647 -0.013638\n",
       "           SH600009    185.496445  188.231216 -0.002277\n",
       "           SH600010      9.318274    9.363085 -0.007463\n",
       "           SH600011     17.678295   17.891283 -0.011396\n",
       "...                           ...         ...       ...\n",
       "2021-01-08 SZ300498     38.887028   38.799690 -0.033316\n",
       "           SZ300529    143.827393  138.928024 -0.046978\n",
       "           SZ300601    250.708481  245.788208 -0.062018\n",
       "           SZ300628    889.865051  876.632812 -0.008940\n",
       "           SZ300676    133.755264  132.078094  0.053054\n",
       "\n",
       "[1495 rows x 3 columns]"
      ]
     },
     "execution_count": 10,
     "metadata": {},
     "output_type": "execute_result"
    }
   ],
   "source": [
    "market = 'csi300' # 沪深300股票池代码，在instruments文件夹下有对应的sh000300.txt\n",
    "close_ma = ['EMA($close, 10)', 'EMA($close, 30)'] # EMA($close, 10)表示计算close的10日指数加权均线\n",
    "ma_names = ['EMA10', 'EMA30']\n",
    "ret = [\"Ref($close, -1)/$close-1\"] # 下一日收益率, Ref($close, -1)表示下一日收盘价\n",
    "ret_name = ['next_ret']\n",
    "qdl_ma_gp = QlibDataLoader(config={'feature':(close_ma, ma_names), 'label': (ret, ret_name)}) \n",
    "qdl_ma_gp.load(instruments=market, start_time='20210101', end_time='20210110')"
   ]
  },
  {
   "cell_type": "code",
   "execution_count": 26,
   "id": "b2b7b0c2",
   "metadata": {},
   "outputs": [
    {
     "data": {
      "text/html": [
       "<div>\n",
       "<style scoped>\n",
       "    .dataframe tbody tr th:only-of-type {\n",
       "        vertical-align: middle;\n",
       "    }\n",
       "\n",
       "    .dataframe tbody tr th {\n",
       "        vertical-align: top;\n",
       "    }\n",
       "\n",
       "    .dataframe thead th {\n",
       "        text-align: right;\n",
       "    }\n",
       "</style>\n",
       "<table border=\"1\" class=\"dataframe\">\n",
       "  <thead>\n",
       "    <tr style=\"text-align: right;\">\n",
       "      <th></th>\n",
       "      <th></th>\n",
       "      <th>EMA10</th>\n",
       "      <th>EMA30</th>\n",
       "    </tr>\n",
       "    <tr>\n",
       "      <th>datetime</th>\n",
       "      <th>instrument</th>\n",
       "      <th></th>\n",
       "      <th></th>\n",
       "    </tr>\n",
       "  </thead>\n",
       "  <tbody>\n",
       "    <tr>\n",
       "      <th rowspan=\"5\" valign=\"top\">2021-01-04</th>\n",
       "      <th>SH600018</th>\n",
       "      <td>18.029676</td>\n",
       "      <td>17.958061</td>\n",
       "    </tr>\n",
       "    <tr>\n",
       "      <th>SH600025</th>\n",
       "      <td>5.010724</td>\n",
       "      <td>5.018754</td>\n",
       "    </tr>\n",
       "    <tr>\n",
       "      <th>SH600031</th>\n",
       "      <td>1367.375366</td>\n",
       "      <td>1316.675049</td>\n",
       "    </tr>\n",
       "    <tr>\n",
       "      <th>SH600111</th>\n",
       "      <td>219.184631</td>\n",
       "      <td>217.240051</td>\n",
       "    </tr>\n",
       "    <tr>\n",
       "      <th>SH600161</th>\n",
       "      <td>373.412048</td>\n",
       "      <td>368.703583</td>\n",
       "    </tr>\n",
       "    <tr>\n",
       "      <th>...</th>\n",
       "      <th>...</th>\n",
       "      <td>...</td>\n",
       "      <td>...</td>\n",
       "    </tr>\n",
       "    <tr>\n",
       "      <th rowspan=\"5\" valign=\"top\">2022-01-10</th>\n",
       "      <th>SZ300628</th>\n",
       "      <td>1009.209351</td>\n",
       "      <td>1000.033386</td>\n",
       "    </tr>\n",
       "    <tr>\n",
       "      <th>SZ300676</th>\n",
       "      <td>91.195946</td>\n",
       "      <td>91.037697</td>\n",
       "    </tr>\n",
       "    <tr>\n",
       "      <th>SZ300677</th>\n",
       "      <td>274.691650</td>\n",
       "      <td>272.923492</td>\n",
       "    </tr>\n",
       "    <tr>\n",
       "      <th>SZ300888</th>\n",
       "      <td>86.108780</td>\n",
       "      <td>84.384277</td>\n",
       "    </tr>\n",
       "    <tr>\n",
       "      <th>SZ300999</th>\n",
       "      <td>64.652382</td>\n",
       "      <td>63.982834</td>\n",
       "    </tr>\n",
       "  </tbody>\n",
       "</table>\n",
       "<p>31780 rows × 2 columns</p>\n",
       "</div>"
      ],
      "text/plain": [
       "                             EMA10        EMA30\n",
       "datetime   instrument                          \n",
       "2021-01-04 SH600018      18.029676    17.958061\n",
       "           SH600025       5.010724     5.018754\n",
       "           SH600031    1367.375366  1316.675049\n",
       "           SH600111     219.184631   217.240051\n",
       "           SH600161     373.412048   368.703583\n",
       "...                            ...          ...\n",
       "2022-01-10 SZ300628    1009.209351  1000.033386\n",
       "           SZ300676      91.195946    91.037697\n",
       "           SZ300677     274.691650   272.923492\n",
       "           SZ300888      86.108780    84.384277\n",
       "           SZ300999      64.652382    63.982834\n",
       "\n",
       "[31780 rows x 2 columns]"
      ]
     },
     "execution_count": 26,
     "metadata": {},
     "output_type": "execute_result"
    }
   ],
   "source": [
    "from qlib.data.filter import ExpressionDFilter\n",
    "# QlibDataLoader其他参数: filter_pipe\n",
    "market = 'csi300' # 沪深300股票池代码，在instruments文件夹下有对应的sh000300.txt\n",
    "close_ma = ['EMA($close, 10)', 'EMA($close, 30)'] # EMA($close, 10)表示计算close的10日指数加权均线\n",
    "ma_names = ['EMA10', 'EMA30']\n",
    "\n",
    "# 使用表达式定义过滤规则\n",
    "filter_rule = ExpressionDFilter(rule_expression='EMA($close, 10)>EMA($close, 30)')\n",
    "\n",
    "# 导出数据\n",
    "qdl_fil = QlibDataLoader(config=(close_ma, ma_names), filter_pipe=[filter_rule,]) \n",
    "qdl_fil.load(instruments=market, start_time='20210101', end_time='20220110')"
   ]
  },
  {
   "cell_type": "code",
   "execution_count": 46,
   "id": "b51ff0e5",
   "metadata": {},
   "outputs": [],
   "source": [
    "from qlib.data.dataset.handler import DataHandlerLP\n",
    "from qlib.data.dataset.processor import CSZScoreNorm, DropnaProcessor\n",
    "\n",
    "qdl = QlibDataLoader(config=(['$close/Ref($close, 1)-1'],['Return']))\n",
    "df = qdl.load(instruments='csi300', start_time='20210101', end_time='20210430') "
   ]
  },
  {
   "cell_type": "code",
   "execution_count": 47,
   "id": "d15aaf49",
   "metadata": {},
   "outputs": [
    {
     "data": {
      "text/plain": [
       "Return    31\n",
       "dtype: int64"
      ]
     },
     "execution_count": 47,
     "metadata": {},
     "output_type": "execute_result"
    }
   ],
   "source": [
    "# 是否有空值\n",
    "df.isna().sum()"
   ]
  },
  {
   "cell_type": "code",
   "execution_count": 49,
   "id": "4106d84e",
   "metadata": {},
   "outputs": [
    {
     "name": "stderr",
     "output_type": "stream",
     "text": [
      "[16756:MainThread](2022-08-20 21:14:01,978) INFO - qlib.timer - [log.py:117] - Time cost: 11.806s | Loading data Done\n",
      "[16756:MainThread](2022-08-20 21:14:01,981) INFO - qlib.timer - [log.py:117] - Time cost: 0.002s | DropnaProcessor Done\n",
      "[16756:MainThread](2022-08-20 21:14:02,000) INFO - qlib.timer - [log.py:117] - Time cost: 0.018s | CSZScoreNorm Done\n",
      "[16756:MainThread](2022-08-20 21:14:02,001) INFO - qlib.timer - [log.py:117] - Time cost: 0.022s | fit & process data Done\n",
      "[16756:MainThread](2022-08-20 21:14:02,001) INFO - qlib.timer - [log.py:117] - Time cost: 11.830s | Init data Done\n"
     ]
    }
   ],
   "source": [
    "# 实例化DataHandler\n",
    "dh = DataHandlerLP(instruments='csi300', start_time='20210101', end_time='20210120',\n",
    "             learn_processors=[DropnaProcessor(), CSZScoreNorm()],\n",
    "             data_loader=qdl)"
   ]
  },
  {
   "cell_type": "code",
   "execution_count": null,
   "id": "cfdc9a69",
   "metadata": {},
   "outputs": [],
   "source": []
  }
 ],
 "metadata": {
  "kernelspec": {
   "display_name": "Python 3",
   "language": "python",
   "name": "python3"
  },
  "language_info": {
   "codemirror_mode": {
    "name": "ipython",
    "version": 3
   },
   "file_extension": ".py",
   "mimetype": "text/x-python",
   "name": "python",
   "nbconvert_exporter": "python",
   "pygments_lexer": "ipython3",
   "version": "3.8.8"
  }
 },
 "nbformat": 4,
 "nbformat_minor": 5
}
