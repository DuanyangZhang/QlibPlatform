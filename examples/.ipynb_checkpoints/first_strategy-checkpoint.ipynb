{
 "cells": [
  {
   "cell_type": "code",
   "execution_count": 1,
   "id": "6fb546f3",
   "metadata": {},
   "outputs": [
    {
     "name": "stderr",
     "output_type": "stream",
     "text": [
      "[6324:MainThread](2022-08-20 13:49:34,226) INFO - qlib.Initialization - [config.py:413] - default_conf: client.\n",
      "[6324:MainThread](2022-08-20 13:49:35,002) INFO - qlib.Initialization - [__init__.py:74] - qlib successfully initialized based on client settings.\n",
      "[6324:MainThread](2022-08-20 13:49:35,003) INFO - qlib.Initialization - [__init__.py:76] - data_path={'__DEFAULT_FREQ': WindowsPath('D:/PycharmProjects/QlibPlatform/data/qlib_data/cn_data_ak')}\n"
     ]
    }
   ],
   "source": [
    "import qlib\n",
    "from qlib.constant import REG_CN\n",
    "provider_uri = \"../data/qlib_data/cn_data_ak\"  # target_dir\n",
    "qlib.init(provider_uri=provider_uri, region=REG_CN)"
   ]
  },
  {
   "cell_type": "code",
   "execution_count": 2,
   "id": "341e8bd5",
   "metadata": {},
   "outputs": [],
   "source": [
    "# 导入QlibDataLoader\n",
    "from qlib.data.dataset.loader import QlibDataLoader"
   ]
  },
  {
   "cell_type": "code",
   "execution_count": 11,
   "id": "a570c73d",
   "metadata": {},
   "outputs": [],
   "source": [
    "# 加载原始特征，比如收盘价、最高价\n",
    "qdl = QlibDataLoader(config=(['$close', '$high', '$factor'],['close', 'high', 'factor'])) \n",
    "df = qdl.load(instruments=['sh600519'], start_time='20190101', end_time='20221231')"
   ]
  },
  {
   "cell_type": "code",
   "execution_count": 12,
   "id": "fec1867a",
   "metadata": {},
   "outputs": [
    {
     "data": {
      "text/plain": [
       "datetime    instrument\n",
       "2019-01-02  sh600519       598.980042\n",
       "2019-01-03  sh600519       590.000000\n",
       "2019-01-04  sh600519       602.000000\n",
       "2019-01-07  sh600519       605.489990\n",
       "2019-01-08  sh600519       604.790039\n",
       "                             ...     \n",
       "2022-08-12  sh600519      1928.000000\n",
       "2022-08-15  sh600519      1919.890015\n",
       "2022-08-16  sh600519      1917.840088\n",
       "2022-08-17  sh600519      1918.000122\n",
       "2022-08-18  sh600519      1895.500000\n",
       "Length: 882, dtype: float32"
      ]
     },
     "execution_count": 12,
     "metadata": {},
     "output_type": "execute_result"
    }
   ],
   "source": [
    "df['close'] / df['factor']"
   ]
  },
  {
   "cell_type": "code",
   "execution_count": null,
   "id": "aed476b4",
   "metadata": {},
   "outputs": [],
   "source": []
  }
 ],
 "metadata": {
  "kernelspec": {
   "display_name": "Python 3",
   "language": "python",
   "name": "python3"
  },
  "language_info": {
   "codemirror_mode": {
    "name": "ipython",
    "version": 3
   },
   "file_extension": ".py",
   "mimetype": "text/x-python",
   "name": "python",
   "nbconvert_exporter": "python",
   "pygments_lexer": "ipython3",
   "version": "3.8.8"
  }
 },
 "nbformat": 4,
 "nbformat_minor": 5
}
